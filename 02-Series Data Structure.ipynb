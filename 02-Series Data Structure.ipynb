{
 "cells": [
  {
   "cell_type": "markdown",
   "metadata": {
    "id": "Wsx9oGLoTzOS"
   },
   "source": [
    "\n",
    "<center> <H1> <b>Data Analysis with Python </b><figure> </H1> </center>\n",
    "<center> <H6>  </H6> </center>\n",
    "\n"
   ]
  },
  {
   "cell_type": "markdown",
   "metadata": {
    "id": "fR9ASokLPhl7"
   },
   "source": [
    "# Series Data Structure"
   ]
  },
  {
   "cell_type": "code",
   "execution_count": 2,
   "metadata": {
    "id": "eRo51NUhPhmA"
   },
   "outputs": [],
   "source": [
    "import pandas as pd # Let's import Pandas with pd."
   ]
  },
  {
   "cell_type": "code",
   "execution_count": 4,
   "metadata": {
    "colab": {
     "base_uri": "https://localhost:8080/"
    },
    "executionInfo": {
     "elapsed": 376,
     "status": "ok",
     "timestamp": 1668421019178,
     "user": {
      "displayName": "glen NGOUNDANGOYE",
      "userId": "03070838588283052265"
     },
     "user_tz": -60
    },
    "id": "tmuo8WstPhmD",
    "outputId": "0cbdc8c0-0960-4d26-92ae-4f4c4183375e"
   },
   "outputs": [
    {
     "data": {
      "text/plain": [
       "0       1\n",
       "1    John\n",
       "2     3.5\n",
       "3     Hey\n",
       "dtype: object"
      ]
     },
     "execution_count": 4,
     "metadata": {},
     "output_type": "execute_result"
    }
   ],
   "source": [
    "liste=[1,\"John\",3.5,\"Hey\"]\n",
    "obj=pd.Series(liste) # charger des données dans panda series au moyen d'une liste\n",
    "obj\n"
   ]
  },
  {
   "cell_type": "code",
   "execution_count": null,
   "metadata": {
    "colab": {
     "base_uri": "https://localhost:8080/"
    },
    "executionInfo": {
     "elapsed": 3578,
     "status": "ok",
     "timestamp": 1668420442496,
     "user": {
      "displayName": "glen NGOUNDANGOYE",
      "userId": "03070838588283052265"
     },
     "user_tz": -60
    },
    "id": "6rsR0_12PhmF",
    "outputId": "8d6e5871-c882-4c67-e5e5-9170a9f3e566"
   },
   "outputs": [
    {
     "data": {
      "text/plain": [
       "1"
      ]
     },
     "execution_count": 3,
     "metadata": {},
     "output_type": "execute_result"
    }
   ],
   "source": [
    "obj[0] # obtenir la première valeur d'indice 0"
   ]
  },
  {
   "cell_type": "code",
   "execution_count": null,
   "metadata": {
    "colab": {
     "base_uri": "https://localhost:8080/"
    },
    "executionInfo": {
     "elapsed": 619,
     "status": "ok",
     "timestamp": 1668420463994,
     "user": {
      "displayName": "glen NGOUNDANGOYE",
      "userId": "03070838588283052265"
     },
     "user_tz": -60
    },
    "id": "EOmYg7rQPhmH",
    "outputId": "aefe8654-e51c-4701-8e8d-e7db769830d6"
   },
   "outputs": [
    {
     "data": {
      "text/plain": [
       "array([1, 'John', 3.5, 'Hey'], dtype=object)"
      ]
     },
     "execution_count": 4,
     "metadata": {},
     "output_type": "execute_result"
    }
   ],
   "source": [
    "obj.values # retourne un tableau contenant des objets et le type de la variable qui les contient"
   ]
  },
  {
   "cell_type": "code",
   "execution_count": null,
   "metadata": {
    "colab": {
     "base_uri": "https://localhost:8080/"
    },
    "executionInfo": {
     "elapsed": 728,
     "status": "ok",
     "timestamp": 1668420472357,
     "user": {
      "displayName": "glen NGOUNDANGOYE",
      "userId": "03070838588283052265"
     },
     "user_tz": -60
    },
    "id": "gUih9vCGPhmI",
    "outputId": "c2f2c554-4cc2-42db-eba5-ec1a4a583b3d"
   },
   "outputs": [
    {
     "data": {
      "text/plain": [
       "a       1\n",
       "b    John\n",
       "c     3.5\n",
       "d     Hey\n",
       "dtype: object"
      ]
     },
     "execution_count": 5,
     "metadata": {},
     "output_type": "execute_result"
    }
   ],
   "source": [
    "# On peut changer les index de la serie\n",
    "obj2=pd.Series([1,\"John\",3.5,\"Hey\"],index=[\"a\",\"b\",\"c\",\"d\"])\n",
    "obj2"
   ]
  },
  {
   "cell_type": "code",
   "execution_count": null,
   "metadata": {
    "colab": {
     "base_uri": "https://localhost:8080/",
     "height": 35
    },
    "executionInfo": {
     "elapsed": 434,
     "status": "ok",
     "timestamp": 1668420483938,
     "user": {
      "displayName": "glen NGOUNDANGOYE",
      "userId": "03070838588283052265"
     },
     "user_tz": -60
    },
    "id": "jIuA2uXOPhmK",
    "outputId": "fe8523a9-fe46-44bc-89ad-ed73da032268"
   },
   "outputs": [
    {
     "data": {
      "application/vnd.google.colaboratory.intrinsic+json": {
       "type": "string"
      },
      "text/plain": [
       "'John'"
      ]
     },
     "execution_count": 6,
     "metadata": {},
     "output_type": "execute_result"
    }
   ],
   "source": [
    "# Retourne l'element de la serie obj2 ayant pour index \"b\"\n",
    "obj2[\"b\"] "
   ]
  },
  {
   "cell_type": "code",
   "execution_count": null,
   "metadata": {
    "colab": {
     "base_uri": "https://localhost:8080/"
    },
    "executionInfo": {
     "elapsed": 328,
     "status": "ok",
     "timestamp": 1668420509767,
     "user": {
      "displayName": "glen NGOUNDANGOYE",
      "userId": "03070838588283052265"
     },
     "user_tz": -60
    },
    "id": "48F4BH5wPhmL",
    "outputId": "4437cc8d-a4d2-4a63-878e-efb8e2b3ab76"
   },
   "outputs": [
    {
     "data": {
      "text/plain": [
       "Index(['a', 'b', 'c', 'd'], dtype='object')"
      ]
     },
     "execution_count": 7,
     "metadata": {},
     "output_type": "execute_result"
    }
   ],
   "source": [
    "# Retourne tous les index de la serie et specifie le type \n",
    "obj2.index"
   ]
  },
  {
   "cell_type": "code",
   "execution_count": null,
   "metadata": {
    "colab": {
     "base_uri": "https://localhost:8080/"
    },
    "executionInfo": {
     "elapsed": 293,
     "status": "ok",
     "timestamp": 1668421722222,
     "user": {
      "displayName": "glen NGOUNDANGOYE",
      "userId": "03070838588283052265"
     },
     "user_tz": -60
    },
    "id": "yWbtKYqHPhmN",
    "outputId": "4b969bf5-1383-4377-d140-cc55d68cfc5f"
   },
   "outputs": [
    {
     "name": "stdout",
     "output_type": "stream",
     "text": [
      "<class 'dict'>\n",
      "Jane    90\n",
      "Bill    80\n",
      "Elon    85\n",
      "Tom     75\n",
      "Tim     95\n",
      "dtype: int64\n",
      "<class 'pandas.core.series.Series'>\n"
     ]
    }
   ],
   "source": [
    "\n",
    "score={\"Jane\":90, \"Bill\":80,\"Elon\":85,\"Tom\":75,\"Tim\":95} # Dictionnaire de 5 elements.\n",
    "print(type(score))\n",
    "\n",
    "# changer notre dictionnaire en serie \n",
    "names=pd.Series(score) # Convert to Series \n",
    "print(names)\n",
    "\n",
    "print(type(names))\n"
   ]
  },
  {
   "cell_type": "code",
   "execution_count": null,
   "metadata": {
    "colab": {
     "base_uri": "https://localhost:8080/"
    },
    "executionInfo": {
     "elapsed": 364,
     "status": "ok",
     "timestamp": 1668420751039,
     "user": {
      "displayName": "glen NGOUNDANGOYE",
      "userId": "03070838588283052265"
     },
     "user_tz": -60
    },
    "id": "INAgHSBaPhmO",
    "outputId": "7de5ee18-876d-4688-e13f-54a06001568d"
   },
   "outputs": [
    {
     "data": {
      "text/plain": [
       "95"
      ]
     },
     "execution_count": 9,
     "metadata": {},
     "output_type": "execute_result"
    }
   ],
   "source": [
    "names[\"Tim\"] "
   ]
  },
  {
   "cell_type": "code",
   "execution_count": null,
   "metadata": {
    "colab": {
     "base_uri": "https://localhost:8080/"
    },
    "executionInfo": {
     "elapsed": 285,
     "status": "ok",
     "timestamp": 1668421731404,
     "user": {
      "displayName": "glen NGOUNDANGOYE",
      "userId": "03070838588283052265"
     },
     "user_tz": -60
    },
    "id": "-UWI6n5PPhmP",
    "outputId": "79461a4e-9595-4738-beae-ddd852763a15"
   },
   "outputs": [
    {
     "data": {
      "text/plain": [
       "Jane    90\n",
       "Elon    85\n",
       "Tim     95\n",
       "dtype: int64"
      ]
     },
     "execution_count": 13,
     "metadata": {},
     "output_type": "execute_result"
    }
   ],
   "source": [
    "names[names>=85] #afficher toutes les valeurs et index de names supérieur ou égal à 85"
   ]
  },
  {
   "cell_type": "code",
   "execution_count": null,
   "metadata": {
    "colab": {
     "base_uri": "https://localhost:8080/"
    },
    "executionInfo": {
     "elapsed": 333,
     "status": "ok",
     "timestamp": 1668421736042,
     "user": {
      "displayName": "glen NGOUNDANGOYE",
      "userId": "03070838588283052265"
     },
     "user_tz": -60
    },
    "id": "X3SpUO_LPhmR",
    "outputId": "7f13b81b-930c-45b8-fa3a-93521edbbed2"
   },
   "outputs": [
    {
     "data": {
      "text/plain": [
       "Jane    90\n",
       "Bill    80\n",
       "Elon    85\n",
       "Tom     60\n",
       "Tim     95\n",
       "dtype: int64"
      ]
     },
     "execution_count": 14,
     "metadata": {},
     "output_type": "execute_result"
    }
   ],
   "source": [
    "names[\"Tom\"]=60 #changer la valeur de l'index tom\n",
    "names"
   ]
  },
  {
   "cell_type": "code",
   "execution_count": null,
   "metadata": {
    "colab": {
     "base_uri": "https://localhost:8080/"
    },
    "executionInfo": {
     "elapsed": 303,
     "status": "ok",
     "timestamp": 1668421740743,
     "user": {
      "displayName": "glen NGOUNDANGOYE",
      "userId": "03070838588283052265"
     },
     "user_tz": -60
    },
    "id": "8wWBfp8VPhmS",
    "outputId": "a369e2db-56cd-4e06-daaf-c6ac55237c82"
   },
   "outputs": [
    {
     "data": {
      "text/plain": [
       "Jane    90\n",
       "Bill    83\n",
       "Elon    85\n",
       "Tom     83\n",
       "Tim     95\n",
       "dtype: int64"
      ]
     },
     "execution_count": 15,
     "metadata": {},
     "output_type": "execute_result"
    }
   ],
   "source": [
    "names[names<=80]=83\n",
    "names"
   ]
  },
  {
   "cell_type": "code",
   "execution_count": null,
   "metadata": {
    "colab": {
     "base_uri": "https://localhost:8080/"
    },
    "executionInfo": {
     "elapsed": 250,
     "status": "ok",
     "timestamp": 1668421744374,
     "user": {
      "displayName": "glen NGOUNDANGOYE",
      "userId": "03070838588283052265"
     },
     "user_tz": -60
    },
    "id": "8e5ukxAIPhmT",
    "outputId": "209c890a-77f6-4ec6-f021-089d7f8d0e24"
   },
   "outputs": [
    {
     "data": {
      "text/plain": [
       "True"
      ]
     },
     "execution_count": 16,
     "metadata": {},
     "output_type": "execute_result"
    }
   ],
   "source": [
    "\"Tom\" in names # retourne une valeur booléenne True si \"Tom\" est dans le dictionnaire names et False sinon"
   ]
  },
  {
   "cell_type": "code",
   "execution_count": null,
   "metadata": {
    "colab": {
     "base_uri": "https://localhost:8080/"
    },
    "executionInfo": {
     "elapsed": 341,
     "status": "ok",
     "timestamp": 1668421748536,
     "user": {
      "displayName": "glen NGOUNDANGOYE",
      "userId": "03070838588283052265"
     },
     "user_tz": -60
    },
    "id": "A6IDG2WmPhmU",
    "outputId": "3a816b30-af17-4c4c-e3c3-536399d63d51"
   },
   "outputs": [
    {
     "data": {
      "text/plain": [
       "False"
      ]
     },
     "execution_count": 17,
     "metadata": {},
     "output_type": "execute_result"
    }
   ],
   "source": [
    "\"Can\" in names"
   ]
  },
  {
   "cell_type": "code",
   "execution_count": null,
   "metadata": {
    "colab": {
     "base_uri": "https://localhost:8080/"
    },
    "executionInfo": {
     "elapsed": 364,
     "status": "ok",
     "timestamp": 1666349368234,
     "user": {
      "displayName": "DENIS SOH",
      "userId": "08528429076633921227"
     },
     "user_tz": -60
    },
    "id": "lU_RO7b-PhmU",
    "outputId": "758754af-e603-4284-a6d8-ea94cc5560db"
   },
   "outputs": [
    {
     "data": {
      "text/plain": [
       "Jane    9.0\n",
       "Bill    8.3\n",
       "Elon    8.5\n",
       "Tom     8.3\n",
       "Tim     9.5\n",
       "dtype: float64"
      ]
     },
     "execution_count": 23,
     "metadata": {},
     "output_type": "execute_result"
    }
   ],
   "source": [
    "names/10 "
   ]
  },
  {
   "cell_type": "code",
   "execution_count": null,
   "metadata": {
    "colab": {
     "base_uri": "https://localhost:8080/"
    },
    "executionInfo": {
     "elapsed": 341,
     "status": "ok",
     "timestamp": 1668421751709,
     "user": {
      "displayName": "glen NGOUNDANGOYE",
      "userId": "03070838588283052265"
     },
     "user_tz": -60
    },
    "id": "94YWdqR0PhmV",
    "outputId": "126bd4bd-f5ba-4ad7-8ffc-10324d35dfda"
   },
   "outputs": [
    {
     "data": {
      "text/plain": [
       "Jane    8100\n",
       "Bill    6889\n",
       "Elon    7225\n",
       "Tom     6889\n",
       "Tim     9025\n",
       "dtype: int64"
      ]
     },
     "execution_count": 18,
     "metadata": {},
     "output_type": "execute_result"
    }
   ],
   "source": [
    "names**2"
   ]
  },
  {
   "cell_type": "code",
   "execution_count": null,
   "metadata": {
    "colab": {
     "base_uri": "https://localhost:8080/"
    },
    "executionInfo": {
     "elapsed": 325,
     "status": "ok",
     "timestamp": 1666349375918,
     "user": {
      "displayName": "DENIS SOH",
      "userId": "08528429076633921227"
     },
     "user_tz": -60
    },
    "id": "fs5kTeHHPhmW",
    "outputId": "6d8f7779-48f6-4321-84d3-4e0ff3d42b3f"
   },
   "outputs": [
    {
     "data": {
      "text/plain": [
       "Jane    False\n",
       "Bill    False\n",
       "Elon    False\n",
       "Tom     False\n",
       "Tim     False\n",
       "dtype: bool"
      ]
     },
     "execution_count": 25,
     "metadata": {},
     "output_type": "execute_result"
    }
   ],
   "source": [
    "names.isnull() "
   ]
  }
 ],
 "metadata": {
  "colab": {
   "provenance": []
  },
  "kernelspec": {
   "display_name": "Python 3 (ipykernel)",
   "language": "python",
   "name": "python3"
  },
  "language_info": {
   "codemirror_mode": {
    "name": "ipython",
    "version": 3
   },
   "file_extension": ".py",
   "mimetype": "text/x-python",
   "name": "python",
   "nbconvert_exporter": "python",
   "pygments_lexer": "ipython3",
   "version": "3.9.7"
  }
 },
 "nbformat": 4,
 "nbformat_minor": 1
}
